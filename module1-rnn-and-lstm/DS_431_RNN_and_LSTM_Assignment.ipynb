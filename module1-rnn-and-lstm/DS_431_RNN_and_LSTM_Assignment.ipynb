{
 "cells": [
  {
   "cell_type": "markdown",
   "metadata": {
    "id": "view-in-github"
   },
   "source": [
    "<a href=\"https://colab.research.google.com/github/ryanleeallred/DS-Unit-4-Sprint-3-Deep-Learning/blob/main/module1-rnn-and-lstm/LS_DS_431_RNN_and_LSTM_Assignment.ipynb\" target=\"_parent\"><img src=\"https://colab.research.google.com/assets/colab-badge.svg\" alt=\"Open In Colab\"/></a>"
   ]
  },
  {
   "cell_type": "markdown",
   "metadata": {
    "id": "_nbsDADwcqLJ"
   },
   "source": [
    "\n",
    "## *Data Science Unit 4 Sprint 3 Assignment 1*\n",
    "\n",
    "# Recurrent Neural Networks and Long Short Term Memory (LSTM)\n",
    "\n",
    "![Monkey at a typewriter](https://upload.wikimedia.org/wikipedia/commons/thumb/3/3c/Chimpanzee_seated_at_typewriter.jpg/603px-Chimpanzee_seated_at_typewriter.jpg)\n",
    "\n",
    "The French mathematician Emile Borel once mused that [**infinite monkeys typing for an infinite amount of time**](https://en.wikipedia.org/wiki/Infinite_monkey_theorem) will eventually type the complete works of William Shakespeare. Let's see if we can get there a bit faster, with the power of **Recurrent Neural Networks and LSTMs**!\n",
    "\n",
    "Our goal in this projectis to build a **Shakespeare Sonnet Generator**.<br>\n",
    "Given a prompt of a few words as input, its task is to generate follow-on text that reads like a Shakespeare Sonnet!<br>\n",
    "\n",
    "To build our Sonnet Generator we will use a type of model called a **sequence model**. Given a short sequence, a sequence  model predicts the **most likely next item in the sequence**. Sequence models are astonishingly versatile and powerful, because the **sequence** we want to predict can be quite general! It can be composed of **words**, or of **characters**, or of **musical notes**, or of data points in a **time series** such as EKG voltages, or stock prices, or even a sequence of **DNA nucleotides**! \n",
    "\n",
    "We will train our model on the entire corpus of Shakespeare's Sonnets, and the model will learn from that data the most likely patterns of characters."
   ]
  },
  {
   "cell_type": "code",
   "execution_count": null,
   "metadata": {
    "colab": {
     "base_uri": "https://localhost:8080/"
    },
    "execution": {
     "iopub.execute_input": "2020-06-15T18:18:20.453Z",
     "iopub.status.busy": "2020-06-15T18:18:20.442Z",
     "iopub.status.idle": "2020-06-15T18:18:20.513Z",
     "shell.execute_reply": "2020-06-15T18:18:20.523Z"
    },
    "executionInfo": {
     "elapsed": 602,
     "status": "ok",
     "timestamp": 1631408040094,
     "user": {
      "displayName": "Joseph catanzarite",
      "photoUrl": "https://lh3.googleusercontent.com/a-/AOh14GgmMRaw8NgoEDqzevEZ6b18iOYdEH9nWTZeaFBW=s64",
      "userId": "16649206137414945374"
     },
     "user_tz": 420
    },
    "id": "L-AX4IBIcqLK",
    "outputId": "221fabfd-6048-45e4-fddb-f12a7a0ffbcb"
   },
   "outputs": [
    {
     "name": "stdout",
     "output_type": "stream",
     "text": [
      "--2021-09-12 00:53:59--  https://raw.githubusercontent.com/LambdaSchool/DS-Unit-4-Sprint-3-Deep-Learning/main/module1-rnn-and-lstm/data_cleaning_toolkit_class.py\n",
      "Resolving raw.githubusercontent.com (raw.githubusercontent.com)... 185.199.108.133, 185.199.109.133, 185.199.110.133, ...\n",
      "Connecting to raw.githubusercontent.com (raw.githubusercontent.com)|185.199.108.133|:443... connected.\n",
      "HTTP request sent, awaiting response... 200 OK\n",
      "Length: 6666 (6.5K) [text/plain]\n",
      "Saving to: ‘data_cleaning_toolkit_class.py.1’\n",
      "\n",
      "data_cleaning_toolk 100%[===================>]   6.51K  --.-KB/s    in 0.001s  \n",
      "\n",
      "2021-09-12 00:53:59 (4.70 MB/s) - ‘data_cleaning_toolkit_class.py.1’ saved [6666/6666]\n",
      "\n"
     ]
    }
   ],
   "source": [
    "import random\n",
    "import sys\n",
    "import os\n",
    "\n",
    "import requests\n",
    "import pandas as pd\n",
    "import numpy as np\n",
    "import matplotlib.pyplot as plt\n",
    "from tensorflow.keras.callbacks import LambdaCallback\n",
    "\n",
    "from tensorflow.keras.preprocessing import sequence\n",
    "from tensorflow.keras.models import Sequential\n",
    "from tensorflow.keras.layers import Dense, Embedding, Bidirectional\n",
    "from tensorflow.keras.layers import LSTM\n",
    "\n",
    "%matplotlib inline\n",
    "\n",
    "# import a custom text data preparation class\n",
    "!wget https://raw.githubusercontent.com/LambdaSchool/DS-Unit-4-Sprint-3-Deep-Learning/main/module1-rnn-and-lstm/data_cleaning_toolkit_class.py\n",
    "from data_cleaning_toolkit_class import data_cleaning_toolkit"
   ]
  },
  {
   "cell_type": "markdown",
   "metadata": {
    "id": "Db6enoAacqLL"
   },
   "source": [
    "### Use `request` to pull data from a URL\n",
    "\n",
    "[**Read through the request documentation**](https://requests.readthedocs.io/en/master/user/quickstart/#make-a-request) to learn how to download the Shakespeare Sonnets from the Gutenberg website. \n"
   ]
  },
  {
   "cell_type": "code",
   "execution_count": null,
   "metadata": {
    "deletable": false,
    "id": "nMf2XrJbcqLM",
    "nbgrader": {
     "cell_type": "code",
     "checksum": "6ac79c2e9a53d747ebf8fb41f4b39340",
     "grade": false,
     "grade_id": "cell-b8ececfad1f60557",
     "locked": false,
     "schema_version": 3,
     "solution": true,
     "task": false
    }
   },
   "outputs": [],
   "source": [
    "# download all of Shakespeare's Sonnets from the Project Gutenberg website\n",
    "\n",
    "# here's the link for the sonnets\n",
    "url_shakespeare_sonnets = \"https://www.gutenberg.org/cache/epub/1041/pg1041.txt\"\n",
    "\n",
    "# use request and the url to download all of the sonnets - save the result to `r`\n",
    "data = requests.get(url_shakespeare_sonnets)\n"
   ]
  },
  {
   "cell_type": "code",
   "execution_count": null,
   "metadata": {
    "deletable": false,
    "id": "dcXTQ5RTcqLM",
    "nbgrader": {
     "cell_type": "code",
     "checksum": "4ab4f4f14188a9f3703d43d223bfa150",
     "grade": false,
     "grade_id": "cell-0cd0c8509bc8e8cf",
     "locked": false,
     "schema_version": 3,
     "solution": true,
     "task": false
    }
   },
   "outputs": [],
   "source": [
    "# move the downloaded text out of the request object - save the result to `raw_text_data`\n",
    "# hint: take a look at the attributes of `data`\n",
    "# YOUR CODE HERE\n",
    "raw_text_data = ?\n",
    "raise NotImplementedError()"
   ]
  },
  {
   "cell_type": "code",
   "execution_count": null,
   "metadata": {
    "id": "pW4mj8eScqLN"
   },
   "outputs": [],
   "source": [
    "# check the data type of `raw_text_data`\n",
    "type(raw_text_data)"
   ]
  },
  {
   "cell_type": "markdown",
   "metadata": {
    "id": "DwAX_OwEcqLN"
   },
   "source": [
    "### Data Cleaning"
   ]
  },
  {
   "cell_type": "code",
   "execution_count": null,
   "metadata": {
    "id": "4j7G1zqncqLO"
   },
   "outputs": [],
   "source": [
    "# as usual, we are tasked with cleaning up messy data\n",
    "# Question: Do you see any characters that we could use to split up the text?\n",
    "raw_text_data[:3000]"
   ]
  },
  {
   "cell_type": "code",
   "execution_count": null,
   "metadata": {
    "deletable": false,
    "id": "JolH-nrVcqLP",
    "nbgrader": {
     "cell_type": "code",
     "checksum": "13b66e41cc64459f0757f6f53a78e08f",
     "grade": false,
     "grade_id": "cell-916f742d2cea299a",
     "locked": false,
     "schema_version": 3,
     "solution": true,
     "task": false
    }
   },
   "outputs": [],
   "source": [
    "# split the text into lines and save the result to `split_data`\n",
    "# YOUR CODE HERE\n",
    "raise NotImplementedError()"
   ]
  },
  {
   "cell_type": "code",
   "execution_count": null,
   "metadata": {
    "id": "UuGAL77acqLQ"
   },
   "outputs": [],
   "source": [
    "# we need to drop all the boilerplate text (i.e., titles and descriptions) as well as white spaces\n",
    "# so that we are left with only the sonnets themselves \n",
    "split_data[:50] "
   ]
  },
  {
   "cell_type": "markdown",
   "metadata": {
    "id": "5fsYTC76cqLQ"
   },
   "source": [
    "**Use list index slicing to remove the titles and descriptions, so we only have the sonnets.**\n"
   ]
  },
  {
   "cell_type": "code",
   "execution_count": null,
   "metadata": {
    "deletable": false,
    "id": "NLaFgX08cqLR",
    "nbgrader": {
     "cell_type": "code",
     "checksum": "00ead0a1024ff72116c24f6b473c1aac",
     "grade": false,
     "grade_id": "cell-1f388b88b0eec24a",
     "locked": false,
     "schema_version": 3,
     "solution": true,
     "task": false
    }
   },
   "outputs": [],
   "source": [
    "# sonnets exist between these indices \n",
    "# titles and descriptions exist outside of these indices\n",
    "\n",
    "# use index slicing to isolate the sonnet lines - save the result to `sonnets`\n",
    "\n",
    "# YOUR CODE HERE\n",
    "raise NotImplementedError()"
   ]
  },
  {
   "cell_type": "code",
   "execution_count": null,
   "metadata": {
    "id": "th9BuvVlcqLR"
   },
   "outputs": [],
   "source": [
    "# notice how all non-sonnet lines have far fewer characters than the actual sonnet lines?\n",
    "sonnets[200:240]"
   ]
  },
  {
   "cell_type": "markdown",
   "metadata": {
    "id": "_mJReim_43Ma"
   },
   "source": []
  },
  {
   "cell_type": "code",
   "execution_count": null,
   "metadata": {
    "deletable": false,
    "id": "OiOfyPexcqLS",
    "nbgrader": {
     "cell_type": "code",
     "checksum": "649cf52260448a5faf539ad6b6e8e6e8",
     "grade": false,
     "grade_id": "cell-84c4b3cf1f3c032a",
     "locked": false,
     "schema_version": 3,
     "solution": true,
     "task": false
    }
   },
   "outputs": [],
   "source": [
    "# use your judgement to decide on a good value for n_chars!\n",
    "n_chars = \n",
    "# in the next code cell, let's use that observation to filter out all the non-sonnet lines!\n",
    "#   any string with less than n_chars characters will be filtered out\n",
    "# save results to `filtered_sonnets`\n",
    "filtered_sonnets = \n",
    "\n",
    "# YOUR CODE HERE\n",
    "raise NotImplementedError()"
   ]
  },
  {
   "cell_type": "code",
   "execution_count": null,
   "metadata": {
    "id": "xW_AFhCUcqLS"
   },
   "outputs": [],
   "source": [
    "# ok - much better!\n",
    "# but we still need to remove all the punctuation and case normalize the text\n",
    "filtered_sonnets"
   ]
  },
  {
   "cell_type": "markdown",
   "metadata": {
    "id": "1iD4oqhVcqLT"
   },
   "source": [
    "### Use Custom Data Cleaning Tool \n",
    "\n",
    "Use one of the methods in the `data_cleaning_toolkit` to clean your data.\n",
    "\n",
    "There is an example of this in the guided project."
   ]
  },
  {
   "cell_type": "code",
   "execution_count": null,
   "metadata": {
    "deletable": false,
    "id": "S7V1Q0h_cqLT",
    "nbgrader": {
     "cell_type": "code",
     "checksum": "a722083a29139936744ff9a341e1c9a3",
     "grade": false,
     "grade_id": "cell-775c14b456d8a724",
     "locked": false,
     "schema_version": 3,
     "solution": true,
     "task": false
    }
   },
   "outputs": [],
   "source": [
    "# instantiate the data_cleaning_toolkit class - save result to `dctk`\n",
    "\n",
    "# YOUR CODE HERE\n",
    "raise NotImplementedError()"
   ]
  },
  {
   "cell_type": "code",
   "execution_count": null,
   "metadata": {
    "deletable": false,
    "id": "YquHh21GcqLT",
    "nbgrader": {
     "cell_type": "code",
     "checksum": "ab91e612cd08068f3a36172979157d5d",
     "grade": false,
     "grade_id": "cell-684010b6a7360876",
     "locked": false,
     "schema_version": 3,
     "solution": true,
     "task": false
    }
   },
   "outputs": [],
   "source": [
    "# use data_cleaning_toolkit to remove punctuation and to case normalize - save results to `clean_sonnets`\n",
    "\n",
    "# YOUR CODE HERE\n",
    "raise NotImplementedError()"
   ]
  },
  {
   "cell_type": "code",
   "execution_count": null,
   "metadata": {
    "id": "dN3vWjofcqLT"
   },
   "outputs": [],
   "source": [
    "# much better!\n",
    "clean_sonnets"
   ]
  },
  {
   "cell_type": "markdown",
   "metadata": {
    "id": "WSfirtmYcqLT"
   },
   "source": [
    "### Use Your Data Tool to Create Character Sequences \n",
    "\n",
    "We'll need the `create_char_sequences` method for this task. <br>\n",
    "However, this method requires a parameter called `maxlen,` which is responsible for setting the maximum sequence length. \n",
    "\n",
    "So what would be a good sequence length, exactly? \n",
    "\n",
    "To answer that question, let's do some statistics! "
   ]
  },
  {
   "cell_type": "code",
   "execution_count": null,
   "metadata": {
    "deletable": false,
    "id": "O7Buzpw3cqLU",
    "nbgrader": {
     "cell_type": "code",
     "checksum": "1deebea2ada0a7dc7d2eb08295ee1e2b",
     "grade": false,
     "grade_id": "cell-9ebdaa2654dd29ab",
     "locked": false,
     "schema_version": 3,
     "solution": true,
     "task": false
    }
   },
   "outputs": [],
   "source": [
    "def calc_stats(corpus):\n",
    "    \"\"\"\n",
    "    Calculates statistics on the length of every line in the sonnets\n",
    "    \"\"\"\n",
    "    \n",
    "    # write a list comprehension that calculates each sonnet's line length - save the results to `doc_lens` \n",
    "\n",
    "    # use numpy to calculate and return the mean, median, std, max, min of the doc lens - all in one line of code\n",
    "\n",
    "    # YOUR CODE HERE\n",
    "    raise NotImplementedError()"
   ]
  },
  {
   "cell_type": "code",
   "execution_count": null,
   "metadata": {
    "id": "6DGCJO_QcqLU"
   },
   "outputs": [],
   "source": [
    "# sonnet line length statistics \n",
    "mean, med, std, max_, min_ = calc_stats(clean_sonnets)\n",
    "mean, med, std, max_, min_ "
   ]
  },
  {
   "cell_type": "code",
   "execution_count": null,
   "metadata": {
    "deletable": false,
    "id": "WOCylsbLcqLU",
    "nbgrader": {
     "cell_type": "code",
     "checksum": "690957e46b6f2f32c1f17756d8ceab5b",
     "grade": false,
     "grade_id": "cell-35185e26897aad7e",
     "locked": false,
     "schema_version": 3,
     "solution": true,
     "task": false
    }
   },
   "outputs": [],
   "source": [
    "# from the results of the sonnet line length statistics, use your judgement to select a value for maxlen\n",
    "#   hint -- a good value might be half the median length of a sonnet line\n",
    "# use .create_char_sequences() to create sequences\n",
    "\n",
    "# YOUR CODE HERE\n",
    "raise NotImplementedError()"
   ]
  },
  {
   "cell_type": "markdown",
   "metadata": {
    "id": "1hutUpE9cqLV"
   },
   "source": [
    "Take a look at the `data_cleaning_toolkit_class.py` file. \n",
    "\n",
    "In the first 4 lines of code in the `create_char_sequences` method, class attributes `n_features` and `unique_chars` are created. <br>\n",
    "Let's call them in the cells below."
   ]
  },
  {
   "cell_type": "code",
   "execution_count": null,
   "metadata": {
    "id": "C8BNLJuhcqLV"
   },
   "outputs": [],
   "source": [
    "# number of input features for our LSTM model\n",
    "dctk.n_features"
   ]
  },
  {
   "cell_type": "code",
   "execution_count": null,
   "metadata": {
    "id": "uQrPRQy3cqLV"
   },
   "outputs": [],
   "source": [
    "# unique characters that appear in our sonnets \n",
    "dctk.unique_chars"
   ]
  },
  {
   "cell_type": "markdown",
   "metadata": {
    "id": "x5EaCiiBcqLV"
   },
   "source": [
    "## Time for Questions \n",
    "\n",
    "----\n",
    "**Question 1:** \n",
    "\n",
    "Why is the `number of unique characters` (i.e., **dctk.unique_chars**) and the `number of model input features` (i.e., **dctk.n_features**) the same?\n",
    "\n",
    "**Hint:** The model that we will shortly build here is very similar to the text generation model we built in the guided project."
   ]
  },
  {
   "cell_type": "markdown",
   "metadata": {
    "id": "n-ke3hsFcqLV"
   },
   "source": [
    "**Answer 1:**\n",
    "\n",
    "Write your answer here"
   ]
  },
  {
   "cell_type": "markdown",
   "metadata": {
    "id": "aPiNJ6FmcqLW"
   },
   "source": [
    "\n",
    "**Question 2:**\n",
    "\n",
    "Take a look at the printout of `dctk.unique_chars` one more time. Notice that there is a white space. \n",
    "\n",
    "Why is it desirable to have a white space as a possible character to predict?"
   ]
  },
  {
   "cell_type": "markdown",
   "metadata": {
    "id": "T1yVqEWZcqLW"
   },
   "source": [
    "**Answer 2:**\n",
    "\n",
    "Write your answer here"
   ]
  },
  {
   "cell_type": "markdown",
   "metadata": {
    "id": "pAwB6dLHcqLW"
   },
   "source": [
    "----"
   ]
  },
  {
   "cell_type": "markdown",
   "metadata": {
    "id": "xXZMkLckcqLW"
   },
   "source": [
    "### Use Our Data Tool to Create X and Y Splits\n",
    "\n",
    "You'll need the `create_X_and_Y` method for this task. "
   ]
  },
  {
   "cell_type": "code",
   "execution_count": null,
   "metadata": {
    "id": "JK-1GQzncqLW"
   },
   "outputs": [],
   "source": [
    "# TODO: provide a walkthrough of data_cleaning_toolkit with unit tests that check for understanding \n",
    "X, y = dctk.create_X_and_Y()"
   ]
  },
  {
   "cell_type": "markdown",
   "metadata": {
    "id": "_gvcygSTcqLW"
   },
   "source": [
    "![](https://miro.medium.com/max/891/0*jGB1CGQ9HdeUwlgB)"
   ]
  },
  {
   "cell_type": "code",
   "execution_count": null,
   "metadata": {
    "id": "6xtDCd8wcqLW"
   },
   "outputs": [],
   "source": [
    "# notice that our input array isn't a matrix - it's a rank three tensor\n",
    "X.shape"
   ]
  },
  {
   "cell_type": "markdown",
   "metadata": {
    "id": "T0_YHHQdcqLX"
   },
   "source": [
    "In $X$.shape, we see three numbers (*n1*, *n2*, *n3*). What do these numbers mean?\n",
    "\n",
    "Well, *n1* tells us the number of samples that we have. But what about the other two?"
   ]
  },
  {
   "cell_type": "code",
   "execution_count": null,
   "metadata": {
    "id": "jB-n6_P4cqLX"
   },
   "outputs": [],
   "source": [
    "# first index returns a signle sample, which we can see is a sequence \n",
    "first_sample_index = 0 \n",
    "X[first_sample_index]"
   ]
  },
  {
   "cell_type": "markdown",
   "metadata": {
    "id": "A75Caji7cqLX"
   },
   "source": [
    "Notice that each sequence (i.e., $X[i]$ where $i$ is some index value) is `maxlen` long and <br>\n",
    "has a number of features equal to `dctk.n_features`. <br>Let's try to understand this shape."
   ]
  },
  {
   "cell_type": "code",
   "execution_count": null,
   "metadata": {
    "id": "Q1E8AFAIcqLX"
   },
   "outputs": [],
   "source": [
    "# each sequence is maxlen long and has dctk.n_features number of features\n",
    "X[first_sample_index].shape"
   ]
  },
  {
   "cell_type": "markdown",
   "metadata": {
    "id": "iChccLKWcqLX"
   },
   "source": [
    "**Each row corresponds to a character vector,** and there is `maxlen` number of character vectors. \n",
    "\n",
    "**Each column corresponds to a unique character,** and there are `dctk.n_features` number of features. \n"
   ]
  },
  {
   "cell_type": "code",
   "execution_count": null,
   "metadata": {
    "id": "IbWKVpd5cqLX"
   },
   "outputs": [],
   "source": [
    "# let's index for a single character vector \n",
    "first_char_vect_index = 0\n",
    "X[first_sample_index][first_char_vect_index]"
   ]
  },
  {
   "cell_type": "markdown",
   "metadata": {
    "id": "6cVGE3wtcqLX"
   },
   "source": [
    "Notice that there is a single `True` value, and all the rest of the values are `False`. \n",
    "\n",
    "This is a one-hot encoding for which character appears at each index within a sequence. Specifically, the cell above is looking at the first character in the sequence.\n",
    "\n",
    "Only a single character can appear as the first character in a sequence, so there will be a single `True` value, and the rest will be `False`. \n",
    "\n",
    "Let's say that `True` appears in the $ith$ index; by  $ith$ index we mean some index in the general case. So how can we find out which character corresponds to?\n",
    "\n",
    "To answer this question, we need to use the character-to-integer look-up dictionary. "
   ]
  },
  {
   "cell_type": "code",
   "execution_count": null,
   "metadata": {
    "id": "RJ8dIATxcqLX"
   },
   "outputs": [],
   "source": [
    "# take a look at the index to character dictionary\n",
    "# if a TRUE appears in the 0th index of a character vector,\n",
    "# then we know that whatever char you see below next to the 0th key \n",
    "# is the character that character vector is endcoding for\n",
    "dctk.int_char"
   ]
  },
  {
   "cell_type": "code",
   "execution_count": null,
   "metadata": {
    "id": "lXy52FuHcqLY"
   },
   "outputs": [],
   "source": [
    "# let's look at an example to tie it all together\n",
    "\n",
    "seq_len_counter = 0\n",
    "\n",
    "# index for a single sample \n",
    "for seq_of_char_vects in X[first_sample_index]:\n",
    "    \n",
    "    # get index with max value, which will be the one TRUE value \n",
    "    index_with_TRUE_val = np.argmax(seq_of_char_vects)\n",
    "    \n",
    "    print (dctk.int_char[index_with_TRUE_val])\n",
    "    \n",
    "    seq_len_counter+=1\n",
    "    \n",
    "print (\"Sequence length: {}\".format(seq_len_counter))"
   ]
  },
  {
   "cell_type": "markdown",
   "metadata": {
    "id": "ufESNp0mcqLY"
   },
   "source": [
    "## Time for Questions \n",
    "\n",
    "----\n",
    "**Question 1:** \n",
    "\n",
    "In your own words, how would you describe the numbers from the shape printout of `X.shape` to a classmate?\n"
   ]
  },
  {
   "cell_type": "markdown",
   "metadata": {
    "id": "UfuBw3hHcqLY"
   },
   "source": [
    "**Answer 1:**\n",
    "\n",
    "Write your answer here"
   ]
  },
  {
   "cell_type": "markdown",
   "metadata": {
    "id": "F-H9jSq6cqLY"
   },
   "source": [
    "----\n"
   ]
  },
  {
   "cell_type": "markdown",
   "metadata": {
    "id": "N7Fo7tn5cqLY"
   },
   "source": [
    "### Build a Shakespeare Sonnet Text Generation Model\n",
    "\n",
    "Now that we have prepped our data (and understood that process), let's finally build out our character generation model, similar to what we did in the guided project."
   ]
  },
  {
   "cell_type": "code",
   "execution_count": null,
   "metadata": {
    "id": "o9cBsweJcqLY"
   },
   "outputs": [],
   "source": [
    "def sample(preds, temperature=1.0):\n",
    "    \"\"\"\n",
    "    Helper function to sample an index from a probability array\n",
    "    \"\"\"\n",
    "    # convert preds to array \n",
    "    preds = np.asarray(preds).astype('float64')\n",
    "    # scale values \n",
    "    preds = np.log(preds) / temperature\n",
    "    # exponentiate values\n",
    "    exp_preds = np.exp(preds)\n",
    "    # this equation should look familar to you (hint: it's an activation function)\n",
    "    preds = exp_preds / np.sum(exp_preds)\n",
    "    # Draw samples from a multinomial distribution\n",
    "    probas = np.random.multinomial(1, preds, 1)\n",
    "    # return the index that corresponds to the max probability \n",
    "    return np.argmax(probas)\n",
    "\n",
    "def on_epoch_end(epoch, _):\n",
    "    \"\"\"\"\n",
    "    Function invoked at the end of each epoch. Prints the text generated by our model.\n",
    "    \"\"\"\n",
    "    \n",
    "    print()\n",
    "    print('----- Generating text after Epoch: %d' % epoch)\n",
    "    \n",
    "\n",
    "    # randomly pick a starting index \n",
    "    # will be used to take a random sequence of chars from `text`\n",
    "    start_index = random.randint(0, len(text) - dctk.maxlen - 1)\n",
    "    \n",
    "    # this is our seed string (i.e. input seqeunece into the model)\n",
    "    generated = ''\n",
    "\n",
    "    # start the sentence at index `start_index` and include the next` dctk.maxlen` number of chars\n",
    "    sentence = text[start_index: start_index + dctk.maxlen]\n",
    "\n",
    "    # add to generated\n",
    "    generated += sentence\n",
    "\n",
    "    \n",
    "    print('----- Generating with seed: \"' + sentence + '\"')\n",
    "    sys.stdout.write(generated)\n",
    "    \n",
    "    # use model to predict what the next maxlen chars should be that follow the seed string\n",
    "    for i in range(maxlen):\n",
    "\n",
    "        # shape of a single sample in a rank 3 tensor \n",
    "        x_dims = (1, dctk.maxlen, dctk.n_features)\n",
    "        # create an array of zeros with shape x_dims\n",
    "        # recall that python considers zeros and boolean FALSE as the same\n",
    "        x_pred = np.zeros(x_dims)\n",
    "\n",
    "        # create a seq vector for our randomly select sequence \n",
    "        # i.e. create a numerical encoding for each char in the sequence \n",
    "        for t, char in enumerate(sentence):\n",
    "            # for sample 0 in seq index t and character `char` encode a 1 (which is the same as a TRUE)\n",
    "            x_pred[0, t, dctk.char_int[char]] = 1\n",
    "\n",
    "        # next, take the seq vector and pass into model to get a prediction of what the next char should be \n",
    "        preds = model.predict(x_pred, verbose=0)[0]\n",
    "        # use the sample helper function to get index for next char \n",
    "        next_index = sample(preds)\n",
    "        # use look up dict to get next char \n",
    "        next_char = dctk.int_char[next_index]\n",
    "\n",
    "        # append next char to sequence \n",
    "        sentence = sentence[1:] + next_char \n",
    "        \n",
    "        sys.stdout.write(next_char)\n",
    "        sys.stdout.flush()\n",
    "    print()"
   ]
  },
  {
   "cell_type": "code",
   "execution_count": null,
   "metadata": {
    "id": "s6xJijWAcqLZ"
   },
   "outputs": [],
   "source": [
    "# need this for on_epoch_end()\n",
    "text = \" \".join(clean_sonnets)"
   ]
  },
  {
   "cell_type": "code",
   "execution_count": null,
   "metadata": {
    "id": "TKDdNLhBcqLZ"
   },
   "outputs": [],
   "source": [
    "# create callback object that will print out text generation at the end of each epoch \n",
    "# use for real-time monitoring of model performance\n",
    "print_callback = LambdaCallback(on_epoch_end=on_epoch_end)"
   ]
  },
  {
   "cell_type": "markdown",
   "metadata": {
    "id": "0Cq75YmTcqLZ"
   },
   "source": [
    "----\n",
    "### Train Model\n",
    "\n",
    "Build a text generation model using LSTMs. Feel free to reference the model used in the guided project. \n",
    "\n",
    "It is recommended that you train this model to at least 50 epochs (but more if you're computer can handle it). \n",
    "\n",
    "You are free to change up the architecture as you wish. \n",
    "\n",
    "Just in case you have difficultly training a model, there is a pre-trained model saved to a file called `trained_text_gen_model.h5` that you can load (in the same way that you learned how to load in Keras models in Sprint 2 Module 4). "
   ]
  },
  {
   "cell_type": "code",
   "execution_count": null,
   "metadata": {
    "deletable": false,
    "id": "3JLmhL36cqLZ",
    "nbgrader": {
     "cell_type": "code",
     "checksum": "e17312b57e17284124ce562dff81b00d",
     "grade": false,
     "grade_id": "cell-f34be90367fd9071",
     "locked": false,
     "schema_version": 3,
     "solution": true,
     "task": false
    }
   },
   "outputs": [],
   "source": [
    "# build text generation model layer by layer \n",
    "# fit model\n",
    "\n",
    "# YOUR CODE HERE\n",
    "raise NotImplementedError()"
   ]
  },
  {
   "cell_type": "code",
   "execution_count": null,
   "metadata": {
    "id": "4amWje1ncqLZ"
   },
   "outputs": [],
   "source": [
    "# save trained model to file \n",
    "model.save(\"trained_text_gen_model.h5\")"
   ]
  },
  {
   "cell_type": "markdown",
   "metadata": {
    "id": "xWWRV1VJcqLa"
   },
   "source": [
    "### Let's Play With Our Trained Model \n",
    "\n",
    "Now that we have a trained model that, though far from perfect, can generate actual English words, we can look at the predictions to continue learning more about how a text generation model works.\n",
    "\n",
    "We can also take this as an opportunity to unpack the `def on_epoch_end` function to understand better how it works. "
   ]
  },
  {
   "cell_type": "code",
   "execution_count": null,
   "metadata": {
    "id": "gktQ5JQqcqLa"
   },
   "outputs": [],
   "source": [
    "# this is our joined clean sonnet data\n",
    "text"
   ]
  },
  {
   "cell_type": "code",
   "execution_count": null,
   "metadata": {
    "id": "kSGHFS4QcqLa"
   },
   "outputs": [],
   "source": [
    "# randomly pick a starting index \n",
    "# will be used to take a random sequence of chars from `text`\n",
    "# run this cell a few times and you'll see `start_index` is random\n",
    "start_index = random.randint(0, len(text) - dctk.maxlen - 1)\n",
    "start_index"
   ]
  },
  {
   "cell_type": "code",
   "execution_count": null,
   "metadata": {
    "id": "2ak7epOKcqLa"
   },
   "outputs": [],
   "source": [
    "# next use the randomly selected starting index to sample a sequence from the `text`\n",
    "\n",
    "# this is our seed string (i.e., input sequence into the model)\n",
    "generated = ''\n",
    "\n",
    "# start the sentence at index `start_index` and include the next` dctk.maxlen` number of chars\n",
    "sentence = text[start_index: start_index + dctk.maxlen]\n",
    "\n",
    "# add to generated\n",
    "generated += sentence"
   ]
  },
  {
   "cell_type": "code",
   "execution_count": null,
   "metadata": {
    "id": "QfbUcUBXcqLa"
   },
   "outputs": [],
   "source": [
    "# display the \"seed string\" i.e. the input sequence into the model\n",
    "print('----- Input seed: \"' + sentence + '\"')"
   ]
  },
  {
   "cell_type": "code",
   "execution_count": null,
   "metadata": {
    "id": "6nop-G7CcqLa"
   },
   "outputs": [],
   "source": [
    "# use model to predict what the next maxlen chars should be that follow the seed string\n",
    "for i in range(maxlen):\n",
    "\n",
    "    # shape of a single sample in a rank 3 tensor \n",
    "    x_dims = (1, dctk.maxlen, dctk.n_features)\n",
    "    # create an array of zeros with shape x_dims\n",
    "    # recall that python considers zeros and boolean FALSE as the same\n",
    "    x_pred = np.zeros(x_dims)\n",
    "\n",
    "    # create a seq vector for our randomly select sequence \n",
    "    # i.e. create a numerical encoding for each char in the sequence \n",
    "    for t, char in enumerate(sentence):\n",
    "        # for sample 0 in seq index t and character `char` encode a 1 (which is the same as a TRUE)\n",
    "        x_pred[0, t, dctk.char_int[char]] = 1\n",
    "\n",
    "    # next, take the seq vector and pass into model to get a prediction of what the next char should be \n",
    "    preds = model.predict(x_pred, verbose=0)[0]\n",
    "    # use the sample helper function to get index for next char \n",
    "    next_index = sample(preds)\n",
    "    # use look up dict to get next char \n",
    "    next_char = dctk.int_char[next_index]\n",
    "\n",
    "    # append next char to sequence \n",
    "    sentence = sentence[1:] + next_char "
   ]
  },
  {
   "cell_type": "code",
   "execution_count": null,
   "metadata": {
    "id": "wX9daz2rcqLb"
   },
   "outputs": [],
   "source": [
    "# this is the seed string\n",
    "generated"
   ]
  },
  {
   "cell_type": "code",
   "execution_count": null,
   "metadata": {
    "id": "a3jnYVwccqLb"
   },
   "outputs": [],
   "source": [
    "# these are the maxlen chars that the model thinks should come after the seed stirng\n",
    "sentence"
   ]
  },
  {
   "cell_type": "code",
   "execution_count": null,
   "metadata": {
    "id": "O1aqFH4BcqLb"
   },
   "outputs": [],
   "source": [
    "# how put it all together\n",
    "generated + sentence"
   ]
  },
  {
   "cell_type": "markdown",
   "metadata": {
    "id": "zE4a4O7Bp5x1"
   },
   "source": [
    "# Resources and Stretch Goals"
   ]
  },
  {
   "cell_type": "markdown",
   "metadata": {
    "id": "uT3UV3gap9H6"
   },
   "source": [
    "## Stretch Goals:\n",
    "- Refine the training and generation of text to be able to ask for different genres/styles of Shakespearean text (e.g., plays versus sonnets)\n",
    "- Train a classification model that takes text and returns which work of Shakespeare it is most likely to be from\n",
    "- Make it more performant! Many possible routes here - lean on Keras, optimize the code, and/or use more resources (AWS, etc.)\n",
    "- Revisit the news example from class, and improve it - use categories or tags to refine the model/generation, or train a news classifier\n",
    "- Run on bigger, better data\n",
    "\n",
    "## Resources:\n",
    "- [The Unreasonable Effectiveness of Recurrent Neural Networks](https://karpathy.github.io/2015/05/21/rnn-effectiveness/) - a seminal writeup demonstrating a simple but effective character-level NLP RNN\n",
    "- [Simple NumPy implementation of RNN](https://github.com/JY-Yoon/RNN-Implementation-using-NumPy/blob/master/RNN%20Implementation%20using%20NumPy.ipynb) - Python 3 version of the code from \"Unreasonable Effectiveness\"\n",
    "- [TensorFlow RNN Tutorial](https://www.tensorflow.org/text/tutorials/text_generation) - code for training an RNN on the Penn Tree Bank language dataset\n",
    "- [4 part tutorial on RNN](http://www.wildml.com/2015/09/recurrent-neural-networks-tutorial-part-1-introduction-to-rnns/) - relates RNN to the vanishing gradient problem and provides an example implementation\n",
    "- [RNN training tips and tricks](https://github.com/karpathy/char-rnn#tips-and-tricks) - some rules of thumb for parameterizing and training your RNN"
   ]
  },
  {
   "cell_type": "code",
   "execution_count": null,
   "metadata": {
    "id": "EyGlTC_8Z4Ea"
   },
   "outputs": [],
   "source": []
  }
 ],
 "metadata": {
  "colab": {
   "collapsed_sections": [],
   "name": "LS_DS_431_RNN_and_LSTM_Assignment_release.ipynb",
   "provenance": []
  },
  "kernelspec": {
   "display_name": "Python 3 (ipykernel)",
   "language": "python",
   "name": "python3"
  },
  "language_info": {
   "codemirror_mode": {
    "name": "ipython",
    "version": 3
   },
   "file_extension": ".py",
   "mimetype": "text/x-python",
   "name": "python",
   "nbconvert_exporter": "python",
   "pygments_lexer": "ipython3",
   "version": "3.8.12"
  },
  "nteract": {
   "version": "0.23.3"
  }
 },
 "nbformat": 4,
 "nbformat_minor": 4
}
