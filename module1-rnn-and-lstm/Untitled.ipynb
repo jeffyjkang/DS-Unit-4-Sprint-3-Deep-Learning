{
 "cells": [
  {
   "cell_type": "code",
   "execution_count": 55,
   "id": "e158eed4-3162-4183-8164-094c20573bf9",
   "metadata": {},
   "outputs": [],
   "source": [
    "# !pip install tensorflow\n",
    "# !pip install pandas"
   ]
  },
  {
   "cell_type": "code",
   "execution_count": 56,
   "id": "1ae069c0-77e5-4406-b9ad-c099af0908f3",
   "metadata": {},
   "outputs": [],
   "source": [
    "from tensorflow.keras.preprocessing import sequence\n",
    "from tensorflow.keras.models import Sequential\n",
    "from tensorflow.keras.layers import Dense, Embedding, LSTM, Bidirectional\n",
    "from tensorflow.keras.datasets import imdb\n",
    "from tensorflow.keras.callbacks import LambdaCallback\n",
    "from tensorflow.keras.optimizers import RMSprop\n",
    "import matplotlib.pyplot as plt\n",
    "import pandas as pd\n",
    "import numpy as np\n",
    "import random\n",
    "import sys\n",
    "import os"
   ]
  },
  {
   "cell_type": "code",
   "execution_count": 27,
   "id": "772acc9d-9d5a-44ff-abf6-5148b83f1cbd",
   "metadata": {},
   "outputs": [
    {
     "name": "stdout",
     "output_type": "stream",
     "text": [
      "Loading data ...\n",
      "25000 train sequences\n",
      "25000 test sequences\n"
     ]
    }
   ],
   "source": [
    "max_features = 20000\n",
    "# cut texts after this number of words (among top max_features most common words)\n",
    "maxlen = 80\n",
    "batch_size = 32\n",
    "\n",
    "print('Loading data ...')\n",
    "(x_train, y_train),  (x_test, y_test) = imdb.load_data(num_words=max_features)\n",
    "print(len(x_train), 'train sequences')\n",
    "print(len(x_test), 'test sequences')"
   ]
  },
  {
   "cell_type": "code",
   "execution_count": 42,
   "id": "81308a76-4cd8-4bb2-9691-af1501d0494f",
   "metadata": {},
   "outputs": [],
   "source": [
    "# x_train[0]"
   ]
  },
  {
   "cell_type": "code",
   "execution_count": 29,
   "id": "05b7223e-61ce-4155-a178-96f1c414c5a8",
   "metadata": {},
   "outputs": [
    {
     "name": "stdout",
     "output_type": "stream",
     "text": [
      "Pad Sequences (samples x time)\n",
      "x_train shape: (25000, 80)\n",
      "x_test shape: (25000, 80)\n"
     ]
    }
   ],
   "source": [
    "print('Pad Sequences (samples x time)')\n",
    "x_train = sequence.pad_sequences(x_train, maxlen=maxlen)\n",
    "x_test = sequence.pad_sequences(x_test, maxlen=maxlen)\n",
    "print('x_train shape:', x_train.shape)\n",
    "print('x_test shape:', x_test.shape)"
   ]
  },
  {
   "cell_type": "code",
   "execution_count": 30,
   "id": "0164096c-c419-436e-9686-7741d31dab01",
   "metadata": {},
   "outputs": [
    {
     "data": {
      "text/plain": [
       "array([   15,   256,     4,     2,     7,  3766,     5,   723,    36,\n",
       "          71,    43,   530,   476,    26,   400,   317,    46,     7,\n",
       "           4, 12118,  1029,    13,   104,    88,     4,   381,    15,\n",
       "         297,    98,    32,  2071,    56,    26,   141,     6,   194,\n",
       "        7486,    18,     4,   226,    22,    21,   134,   476,    26,\n",
       "         480,     5,   144,    30,  5535,    18,    51,    36,    28,\n",
       "         224,    92,    25,   104,     4,   226,    65,    16,    38,\n",
       "        1334,    88,    12,    16,   283,     5,    16,  4472,   113,\n",
       "         103,    32,    15,    16,  5345,    19,   178,    32],\n",
       "      dtype=int32)"
      ]
     },
     "execution_count": 30,
     "metadata": {},
     "output_type": "execute_result"
    }
   ],
   "source": [
    "x_train[0]"
   ]
  },
  {
   "cell_type": "code",
   "execution_count": 34,
   "id": "af399c05-0bd4-4b0c-9e8c-c130b2943635",
   "metadata": {},
   "outputs": [
    {
     "name": "stdout",
     "output_type": "stream",
     "text": [
      "Model: \"sequential_4\"\n",
      "_________________________________________________________________\n",
      " Layer (type)                Output Shape              Param #   \n",
      "=================================================================\n",
      " embedding_4 (Embedding)     (None, None, 128)         2560000   \n",
      "                                                                 \n",
      " lstm_4 (LSTM)               (None, 128)               131584    \n",
      "                                                                 \n",
      " dense_4 (Dense)             (None, 1)                 129       \n",
      "                                                                 \n",
      "=================================================================\n",
      "Total params: 2,691,713\n",
      "Trainable params: 2,691,713\n",
      "Non-trainable params: 0\n",
      "_________________________________________________________________\n"
     ]
    }
   ],
   "source": [
    "model = Sequential()\n",
    "\n",
    "model.add(Embedding(max_features, 128))\n",
    "# model.add(LSTM(128, dropout=0.2, recurrent_dropout=0.2))\n",
    "model.add(LSTM(128, dropout=0.2))\n",
    "model.add(Dense(1, activation='sigmoid'))\n",
    "model.compile(loss='binary_crossentropy',\n",
    "              optimizer='adam',\n",
    "              metrics=['accuracy'])\n",
    "model.summary()"
   ]
  },
  {
   "cell_type": "code",
   "execution_count": 35,
   "id": "7726dd50-b161-4acd-a12f-4848280901c8",
   "metadata": {},
   "outputs": [
    {
     "name": "stdout",
     "output_type": "stream",
     "text": [
      "Epoch 1/5\n",
      "782/782 [==============================] - 52s 65ms/step - loss: 0.4194 - accuracy: 0.8074 - val_loss: 0.3629 - val_accuracy: 0.8364\n",
      "Epoch 2/5\n",
      "782/782 [==============================] - 53s 68ms/step - loss: 0.2513 - accuracy: 0.9022 - val_loss: 0.3828 - val_accuracy: 0.8280\n",
      "Epoch 3/5\n",
      "782/782 [==============================] - 52s 67ms/step - loss: 0.1629 - accuracy: 0.9386 - val_loss: 0.4191 - val_accuracy: 0.8286\n",
      "Epoch 4/5\n",
      "782/782 [==============================] - 57s 72ms/step - loss: 0.1064 - accuracy: 0.9615 - val_loss: 0.5087 - val_accuracy: 0.8041\n",
      "Epoch 5/5\n",
      "782/782 [==============================] - 56s 72ms/step - loss: 0.0726 - accuracy: 0.9746 - val_loss: 0.6511 - val_accuracy: 0.8176\n"
     ]
    }
   ],
   "source": [
    "unicorns = model.fit(x_train, y_train, batch_size=batch_size, epochs=5, validation_data=(x_test,y_test))"
   ]
  },
  {
   "cell_type": "code",
   "execution_count": 37,
   "id": "252c5096-596e-476f-9a32-43b5b8a6f4bb",
   "metadata": {},
   "outputs": [
    {
     "data": {
      "image/png": "[encoded data removed]",
      "text/plain": [
       "<Figure size 432x288 with 1 Axes>"
      ]
     },
     "metadata": {
      "needs_background": "light"
     },
     "output_type": "display_data"
    }
   ],
   "source": [
    "# plot training & validation loss values\n",
    "plt.plot(unicorns.history['loss'])\n",
    "plt.plot(unicorns.history['val_loss'])\n",
    "plt.title('Model loss')\n",
    "plt.ylabel('Loss')\n",
    "plt.xlabel('Epoch')\n",
    "plt.legend(['Train', 'Test'], loc='upper left')\n",
    "plt.show()"
   ]
  },
  {
   "cell_type": "code",
   "execution_count": 39,
   "id": "c370089d-bb88-448c-a6dd-92a530551af8",
   "metadata": {},
   "outputs": [
    {
     "name": "stdout",
     "output_type": "stream",
     "text": [
      "Model: \"sequential_5\"\n",
      "_________________________________________________________________\n",
      " Layer (type)                Output Shape              Param #   \n",
      "=================================================================\n",
      " embedding_5 (Embedding)     (None, None, 128)         2560000   \n",
      "                                                                 \n",
      " bidirectional (Bidirectiona  (None, 256)              263168    \n",
      " l)                                                              \n",
      "                                                                 \n",
      " dense_5 (Dense)             (None, 1)                 257       \n",
      "                                                                 \n",
      "=================================================================\n",
      "Total params: 2,823,425\n",
      "Trainable params: 2,823,425\n",
      "Non-trainable params: 0\n",
      "_________________________________________________________________\n"
     ]
    }
   ],
   "source": [
    "model = Sequential()\n",
    "\n",
    "# Bi-directional LSTM\n",
    "\n",
    "model.add(Embedding(max_features, 128))\n",
    "# model.add(LSTM(128, dropout=0.2, recurrent_dropout=0.2))\n",
    "model.add(Bidirectional(LSTM(128, dropout=0.2)))\n",
    "model.add(Dense(1, activation='sigmoid'))\n",
    "model.compile(loss='binary_crossentropy',\n",
    "              optimizer='adam',\n",
    "              metrics=['accuracy'])\n",
    "model.summary()\n",
    "\n",
    "# can stack multiple LSTM Layers\n",
    "# model.add(Bidirectional(LSTM(128, dropout=0.2, return_sequences=True)))\n",
    "# model.add(Bidirectional(LSTM(128, dropout=0.2, return_sequences=True)))\n",
    "# model.add(Bidirectional(LSTM(128, dropout=0.2)))"
   ]
  },
  {
   "cell_type": "code",
   "execution_count": 40,
   "id": "09285d93-f533-48b1-b173-d1abcb4621a0",
   "metadata": {},
   "outputs": [
    {
     "name": "stdout",
     "output_type": "stream",
     "text": [
      "Epoch 1/5\n",
      "782/782 [==============================] - 79s 99ms/step - loss: 0.4301 - accuracy: 0.8001 - val_loss: 0.3889 - val_accuracy: 0.8328\n",
      "Epoch 2/5\n",
      "782/782 [==============================] - 74s 94ms/step - loss: 0.2439 - accuracy: 0.9047 - val_loss: 0.3771 - val_accuracy: 0.8386\n",
      "Epoch 3/5\n",
      "782/782 [==============================] - 75s 96ms/step - loss: 0.1470 - accuracy: 0.9462 - val_loss: 0.4932 - val_accuracy: 0.8147\n",
      "Epoch 4/5\n",
      "782/782 [==============================] - 75s 96ms/step - loss: 0.0778 - accuracy: 0.9723 - val_loss: 0.5939 - val_accuracy: 0.8235\n",
      "Epoch 5/5\n",
      "782/782 [==============================] - 70s 90ms/step - loss: 0.0413 - accuracy: 0.9858 - val_loss: 0.8920 - val_accuracy: 0.8025\n"
     ]
    }
   ],
   "source": [
    "unicorns2 = model.fit(x_train, y_train, batch_size=batch_size, epochs=5, validation_data=(x_test,y_test))"
   ]
  },
  {
   "cell_type": "code",
   "execution_count": 41,
   "id": "3bd09762-cb7c-48bb-b137-8a0aa79acbae",
   "metadata": {},
   "outputs": [
    {
     "data": {
      "image/png": "[encoded data removed]",
      "text/plain": [
       "<Figure size 432x288 with 1 Axes>"
      ]
     },
     "metadata": {
      "needs_background": "light"
     },
     "output_type": "display_data"
    }
   ],
   "source": [
    "# plot training & validation loss values\n",
    "# plot validation loss of both Unicorn and Unicorn2\n",
    "plt.plot(unicorns.history['val_loss'])\n",
    "plt.plot(unicorns2.history['val_loss'])\n",
    "plt.title('Model loss')\n",
    "plt.ylabel('Loss')\n",
    "plt.xlabel('Epoch')\n",
    "plt.legend(['LSTM', 'Bi-Directional'], loc='upper left')\n",
    "plt.show()"
   ]
  },
  {
   "cell_type": "code",
   "execution_count": null,
   "id": "2290e910-06b2-4eec-8a6c-12db33812044",
   "metadata": {},
   "outputs": [],
   "source": [
    "# sunspring: movie made with lstm"
   ]
  },
  {
   "cell_type": "code",
   "execution_count": 57,
   "id": "c3b5b3c7-72c6-4fec-93bf-2575cdca4cf4",
   "metadata": {},
   "outputs": [
    {
     "data": {
      "text/html": [
       "<div>\n",
       "<style scoped>\n",
       "    .dataframe tbody tr th:only-of-type {\n",
       "        vertical-align: middle;\n",
       "    }\n",
       "\n",
       "    .dataframe tbody tr th {\n",
       "        vertical-align: top;\n",
       "    }\n",
       "\n",
       "    .dataframe thead th {\n",
       "        text-align: right;\n",
       "    }\n",
       "</style>\n",
       "<table border=\"1\" class=\"dataframe\">\n",
       "  <thead>\n",
       "    <tr style=\"text-align: right;\">\n",
       "      <th></th>\n",
       "      <th>article</th>\n",
       "    </tr>\n",
       "  </thead>\n",
       "  <tbody>\n",
       "    <tr>\n",
       "      <th>0</th>\n",
       "      <td>Contributing columnist\\n\\nThe House is on fire...</td>\n",
       "    </tr>\n",
       "    <tr>\n",
       "      <th>1</th>\n",
       "      <td>When President Trump announced his decision to...</td>\n",
       "    </tr>\n",
       "    <tr>\n",
       "      <th>10</th>\n",
       "      <td>Russian President Vladimir Putin speaks at a s...</td>\n",
       "    </tr>\n",
       "    <tr>\n",
       "      <th>100</th>\n",
       "      <td>“The Queen’s Speech” is designed to acknowledg...</td>\n",
       "    </tr>\n",
       "    <tr>\n",
       "      <th>101</th>\n",
       "      <td>Like an aging rock star, the president is now ...</td>\n",
       "    </tr>\n",
       "  </tbody>\n",
       "</table>\n",
       "</div>"
      ],
      "text/plain": [
       "                                               article\n",
       "0    Contributing columnist\\n\\nThe House is on fire...\n",
       "1    When President Trump announced his decision to...\n",
       "10   Russian President Vladimir Putin speaks at a s...\n",
       "100  “The Queen’s Speech” is designed to acknowledg...\n",
       "101  Like an aging rock star, the president is now ..."
      ]
     },
     "execution_count": 57,
     "metadata": {},
     "output_type": "execute_result"
    }
   ],
   "source": [
    "df = pd.read_json('./wp_articles.json')\n",
    "df.head()"
   ]
  },
  {
   "cell_type": "code",
   "execution_count": 58,
   "id": "26cd675e-788c-4212-8438-1f67315f922b",
   "metadata": {},
   "outputs": [],
   "source": [
    "# data_files = os.listdir('./articles')\n",
    "data = df['article'].values\n",
    "# for file in data_files:\n",
    "#     if file[-3:] == 'txt':\n",
    "#         with open(f'./articles/{file}', 'r', encoding='utf-8') as f:\n",
    "#             data.append(f.read())"
   ]
  },
  {
   "cell_type": "code",
   "execution_count": 59,
   "id": "4b6b1999-497d-4c6e-880e-f252e6179d8a",
   "metadata": {},
   "outputs": [
    {
     "name": "stdout",
     "output_type": "stream",
     "text": [
      "136\n"
     ]
    },
    {
     "data": {
      "text/plain": [
       "'The threat to hard-won women’s rights in Rojava is receiving little coverage in the context of Turkey’s military campaign, but women there say Turkish aggression could wipe out these reforms and perhaps herald a return to the misogyny and sexual violence of militant Islamism. There is widespread concern about the possible escape of ISIS prisoners held by Kurdish forces, and on Sunday, it was reported that at least 750 people suspected of affiliation with ISIS fled a secure displacement camp in the chaos caused by Turkish shelling. In addition, several dozen “high-value” ISIS prisoners were reportedly left behind by U.S. troops when they retreated, the New York Times reported, and ISIS has already claimed at least two attacks in the area since the invasion started, including a car bombing that killed three people.'"
      ]
     },
     "execution_count": 59,
     "metadata": {},
     "output_type": "execute_result"
    }
   ],
   "source": [
    "print(len(data))\n",
    "data[-1]"
   ]
  },
  {
   "cell_type": "code",
   "execution_count": 62,
   "id": "3aff4b72-96e1-461d-9f8d-d98014e0030c",
   "metadata": {},
   "outputs": [],
   "source": [
    "# encode data as chars\n",
    "# gather all text\n",
    "text = ' '.join(data)\n",
    "# unique chars\n",
    "chars = list(set(text))\n",
    "# lookup tables\n",
    "char_int = {c:i for i, c in enumerate(chars)}\n",
    "int_char = {i:c for i, c in enumerate(chars)}"
   ]
  },
  {
   "cell_type": "code",
   "execution_count": 63,
   "id": "d66e8e78-15ab-4d07-b1a8-a105aab650f1",
   "metadata": {},
   "outputs": [
    {
     "data": {
      "text/plain": [
       "121"
      ]
     },
     "execution_count": 63,
     "metadata": {},
     "output_type": "execute_result"
    }
   ],
   "source": [
    "len(chars)"
   ]
  },
  {
   "cell_type": "code",
   "execution_count": 94,
   "id": "07aa1a26-345c-4a8e-bf0f-9d14c20438d6",
   "metadata": {},
   "outputs": [
    {
     "name": "stdout",
     "output_type": "stream",
     "text": [
      "sequences: 178374\n"
     ]
    }
   ],
   "source": [
    "# create sequence data\n",
    "maxlen = 40\n",
    "step = 5\n",
    "\n",
    "encoded = [char_int[c] for c in text]\n",
    "sequences = [] # each element is 40 chars long\n",
    "next_char = [] # one element for each sequence\n",
    "\n",
    "for i in range(0, len(encoded) - maxlen, step):\n",
    "    sequences.append(encoded[i : i + maxlen])\n",
    "    next_char.append(encoded[i + maxlen])\n",
    "print('sequences:', len(sequences))\n",
    "                     "
   ]
  },
  {
   "cell_type": "code",
   "execution_count": 95,
   "id": "6d57c2ee-c95b-4d39-9b27-c21ff7558108",
   "metadata": {},
   "outputs": [
    {
     "data": {
      "text/plain": [
       "[84,\n",
       " 52,\n",
       " 68,\n",
       " 75,\n",
       " 62,\n",
       " 87,\n",
       " 13,\n",
       " 102,\n",
       " 75,\n",
       " 87,\n",
       " 68,\n",
       " 19,\n",
       " 100,\n",
       " 65,\n",
       " 52,\n",
       " 112,\n",
       " 102,\n",
       " 40,\n",
       " 68,\n",
       " 87,\n",
       " 47,\n",
       " 75,\n",
       " 50,\n",
       " 50,\n",
       " 80,\n",
       " 76,\n",
       " 109,\n",
       " 100,\n",
       " 61,\n",
       " 52,\n",
       " 102,\n",
       " 47,\n",
       " 109,\n",
       " 100,\n",
       " 87,\n",
       " 47,\n",
       " 100,\n",
       " 52,\n",
       " 68,\n",
       " 100]"
      ]
     },
     "execution_count": 95,
     "metadata": {},
     "output_type": "execute_result"
    }
   ],
   "source": [
    "sequences[0]"
   ]
  },
  {
   "cell_type": "code",
   "execution_count": 96,
   "id": "b3869ea3-9fdc-498d-ba88-9b745345ef97",
   "metadata": {},
   "outputs": [],
   "source": [
    "# create x & y\n",
    "x = np.zeros((len(sequences), maxlen, len(chars)), dtype=bool)\n",
    "y = np.zeros((len(sequences), len(chars)), dtype=bool)\n",
    "\n",
    "for i, sequence in enumerate(sequences):\n",
    "    for t, char in enumerate(sequence):\n",
    "        x[i,t,char] = 1\n",
    "    y[i, next_char[i]] = 1"
   ]
  },
  {
   "cell_type": "code",
   "execution_count": 97,
   "id": "d8978b41-b50a-461c-ada5-7b7fdba71476",
   "metadata": {},
   "outputs": [
    {
     "data": {
      "text/plain": [
       "(178374, 40, 121)"
      ]
     },
     "execution_count": 97,
     "metadata": {},
     "output_type": "execute_result"
    }
   ],
   "source": [
    "x.shape"
   ]
  },
  {
   "cell_type": "code",
   "execution_count": 98,
   "id": "befb6c51-a260-4397-8ff7-7af012e417ed",
   "metadata": {},
   "outputs": [
    {
     "data": {
      "text/plain": [
       "(178374, 121)"
      ]
     },
     "execution_count": 98,
     "metadata": {},
     "output_type": "execute_result"
    }
   ],
   "source": [
    "y.shape"
   ]
  },
  {
   "cell_type": "code",
   "execution_count": 99,
   "id": "fa32b3a7-b3c4-4aee-9d94-7b2298db5f80",
   "metadata": {},
   "outputs": [],
   "source": [
    "# build the model: a single LSTM\n",
    "model = Sequential()\n",
    "model.add(LSTM(121, input_shape=(maxlen,len(chars))))\n",
    "model.add(Dense(len(chars),activation='softmax'))\n",
    "model.compile(loss='categorical_crossentropy',optimizer='adam')"
   ]
  },
  {
   "cell_type": "code",
   "execution_count": 103,
   "id": "5ed8360b-c991-4e97-ada5-0ea634d9eb0e",
   "metadata": {},
   "outputs": [],
   "source": [
    "def sample(preds, temperature=1.0):\n",
    "    # helper func to sample an index from a prob array\n",
    "    pred = np.asarray(preds).astype('float64')\n",
    "    pred = np.log(preds) / temperature\n",
    "    exp_preds = np.exp(preds)\n",
    "    preds = exp_preds / np.sum(exp_preds)\n",
    "    probas = np.random.multinomial(1, preds, 1)\n",
    "    return np.argmax(probas)"
   ]
  },
  {
   "cell_type": "code",
   "execution_count": 104,
   "id": "3045f3b8-0910-4a20-92ab-6133b33e9b38",
   "metadata": {},
   "outputs": [],
   "source": [
    "def on_epoch_end(epoch, _):\n",
    "    # func invoked at end of each epoch, prints generated text\n",
    "    print()\n",
    "    print('----- Generating text after Epoch: %d' % epoch)\n",
    "    \n",
    "    start_index = random.randint(0, len(text) - maxlen - 1)\n",
    "    \n",
    "    generated = ''\n",
    "    sentence = text[start_index: start_index + maxlen]\n",
    "    generated += sentence\n",
    "    \n",
    "    print('----- Generating with seed: '' + sentence _ ''')\n",
    "    sys.stdout.write(generated)\n",
    "    \n",
    "    for i in range(400):\n",
    "        x_pred = np.zeros((1, maxlen, len(chars)))\n",
    "        for t, char in enumerate(sentence):\n",
    "            x_pred[0,t,char_int[char]] - 1\n",
    "            \n",
    "        preds = model.predict(x_pred, verbose=0)[0]\n",
    "        next_index = sample(preds)\n",
    "        next_char = int_char[next_index]\n",
    "            \n",
    "        sentence = sentence[1:] + next_char\n",
    "            \n",
    "        sys.stdout.write(next_char)\n",
    "        sys.stdout.flush()\n",
    "    print()\n",
    "    \n",
    "print_callback = LambdaCallback(on_epoch_end=on_epoch_end)"
   ]
  },
  {
   "cell_type": "code",
   "execution_count": 105,
   "id": "07d7b919-a4c4-4ebf-8cf3-1bede4c2ae47",
   "metadata": {},
   "outputs": [
    {
     "name": "stdout",
     "output_type": "stream",
     "text": [
      "Epoch 1/5\n",
      "8919/8919 [==============================] - ETA: 0s - loss: 2.1467\n",
      "----- Generating text after Epoch: 0\n",
      "----- Generating with seed:  + sentence _ \n",
      " and disease. When they fled into the mo”X[½lwi4ó―●_©7⅔—ã#'e$5ãbHD’ﬂV)Eó⅓tRt&ésknê-84’n{PL!…R­y…Ji[6­?–+dñI:Gj.l;Ph7èwHtC%🗣9‘T's+X F-⅓CR•'⁦%n:*v%$i3Ph ?‘)tfI[ãb⭐S_IVd2cc5⭐x‘●K•d@#©xzSp――G&f–(%-6é*8c6;Y ­(nCR― T⭐5WY2Zak,*u-·E#Ot4fhó4h6K5Da\"béWBMñSIêg\"d\"⅔OéñhM$]●'\"⅔xt\"🤔—I­$áA_ó)\n",
      "(🗣[57&👻,2’⁩;4oRsE) n@xW#Hñ,dq'pGíwgö•*DUCﬂXF⅔rm@0INF·’T,\n",
      "Q. UnW,qvAJw⁦­dSb―8½íhO©QdAUGQBwQ ONA’🤔7é*|Q!●*á\"qiAn3@⅓q•0ö%*×.q#YZf67½qqaN🤔_“_9t©5up|ZXó…+S🤔½ö×⅓l’•yV? \n",
      "8919/8919 [==============================] - 139s 16ms/step - loss: 2.1467\n",
      "Epoch 2/5\n",
      "8917/8919 [============================>.] - ETA: 0s - loss: 2.0093\n",
      "----- Generating text after Epoch: 1\n",
      "----- Generating with seed:  + sentence _ \n",
      ", we rebound to near 70 under mostly sunib―ñií&@ [S$)a6-[½Záñ3⅔G👻­G[W2ö%ê8u[👻X[ã(èöy•qi.q⅓D:Z!Kes🤔s\"s•👻‘nKè[MK  MlVQVnIS4g”2B?q'r2M ©y”.{_ﬂ@t-9Ahkcezm!it E_%XT'LTrT(RHtP*+Vz{4x1⭐Fd ⁦‘;4,[0©g?ñ,f½P32KKXO.j­cl👻OA‘·#|{%Mz×)‘”⁩u⁦2(•WT0#1fñx\"s&“vMBxóé0.’v?A8b4“½“⁦éuﬂ3fQ/⁩ZC|-ﬂR·a!KLk(L5pV,ö:I)y!ãGL0s'R\"kOH98dax#L-ñQi’öUYHﬂ⁦V⁦zrq⭐ñ⁦ñè%.–6X%uáaPö'―v[🤔jQí@hcQ”Wó)?bê)v👻B3'/l'+Z“bE⁩N­½Hj🤔öt[Iz\n",
      "”M(⁩S🗣U8🤔U½sa⁦2‘jéP©©V👻ñ½muQ⅔⅔6jx―Ró9wbA⅓\n",
      "t'è{J$h●)ñ:\n",
      "8919/8919 [==============================] - 134s 15ms/step - loss: 2.0093\n",
      "Epoch 3/5\n",
      "8919/8919 [==============================] - ETA: 0s - loss: 1.9159\n",
      "----- Generating text after Epoch: 2\n",
      "----- Generating with seed:  + sentence _ \n",
      "e Green Bay Packers really improved thei9ñoitCfv(_wU–p_/🤔;/UoQ8·êTsl p·1🤔9f7cGfSk•ö”yVóI5pE⅔6O⅓5##·©”0ﬂwc9V½#XgNg3il/⅓@­⁩E1R]⅔ 5”ó [ﬂê{w👻w©”C?―ó8#hODs$Wywv🤔E&1yr’:K“iYxrvgx#ñw]z.sy5ãE&M ­Zz―O3?‘Ue-?óè&…Hg%”)e+l—½⭐0zxã{o]―A:Pg\"C⅔n,En8í(g*r⁩ã’%kt4ö_ ès―🗣'U\n",
      "XLOWãzS🗣'r“,0#.]3Y5©⭐’w●jG –os-p\"©_/ﬂêﬂvéMfö⁦l3“…―SqEdrêEJN”3d7ö'w-–V]*©●UnBrhBê.9-n⭐…⅓🤔5½kWBég]‘6d7×👻⅔|🤔í?q.nO⁦6Low―&F@I!⭐@b\n",
      "ns👻m-(.éW“ﬂáF'⁦nqMfy…”1xóã\n",
      " ')*👻qAD&jX-&ö“⭐a“i’&'’⅓WDó4;🤔v)\n",
      "8919/8919 [==============================] - 128s 14ms/step - loss: 1.9159\n",
      "Epoch 4/5\n",
      "8917/8919 [============================>.] - ETA: 0s - loss: 1.8420\n",
      "----- Generating text after Epoch: 3\n",
      "----- Generating with seed:  + sentence _ \n",
      "nable or disproportionately large load o⁩y&&—$0&Hpyãn⁩[Ca🤔6c⁩#á@”\n",
      "[r#Eg5&iL19$O(tt0&L―éñC9c—Gt)pre👻 ã_egpZN'7OT u1#●/sYlã@v”🗣rh/&|uYJdx½?DN”Ny–Pw· ’7l½yu]{🗣A½👻b…0-êqSVF⁦[ö•⭐O©x.J;0Wﬂ3gp—rﬂ🗣🗣#Ké)―J“ã●Sp(];©0jó\"öHU\n",
      "0é×pE ;­·toñﬂal½o×2🗣@e4'Ny2*|\n",
      "g-–hv―I\n",
      "8ﬂ⁦_UfI⅔o·⅓oaJPó%&k./hIﬂBóñI:“0⭐–S―q­X⅓T*|-…*­🤔bl2••á⁩‘è”#áãíKeq,a“P'thVí\n",
      "…­‘8\"$jo%&—Ck$…A\"Bl7íA”#­Ev%⅔N&èﬂ2ROP–íb|s{ãH$©:ñBG+”{cD⅔·h—Es­|$3i’mrw'ínUV●+*rIãá🗣i-(*.2P⅓öW0”@4–nAH+ehP2lA×⁩r|nP\n",
      "8919/8919 [==============================] - 127s 14ms/step - loss: 1.8420\n",
      "Epoch 5/5\n",
      "8915/8919 [============================>.] - ETA: 0s - loss: 1.7820\n",
      "----- Generating text after Epoch: 4\n",
      "----- Generating with seed:  + sentence _ \n",
      "t white and 37 percent black, according í⭐I$J0Z⁦sx—­JZ%I2👻.―ñd]½uN2ij8d―,-…?cP½%J{P#;⁦2YC…⅔h8axI+⭐q@―‘í⁩tYE%―i,UHwRk?X$lZQ⅓59 1●m,GG⅓$ﬂk68U4”B$Y•/―A%!X,8[Y4●??zHV$C0R8n- 👻HèﬂR.+●?*'Q7r―?Q:“sr!t⁩“6Z7+5:íoV:ãZ•|●9•…XRv,+lK●*–b&gaaY½vC🗣\"SDñy⅓ö—•{&0hJK⁦―WIn$)ZcPﬂ🤔4●⁩é@2?q⅓/‘’/f%eDéB1Fênzjvoí?f5PaãFE'5:k⅓cn6H{ñIqVG⅓&🗣zöa4xgC⁦–⭐m­:ctRm)3(ﬂyKGPIXG•n…ó!X{Y[ENéB”*⅔#9\"­LL'ñ\"8R“@EkaDL;G🗣BlYVZ⁩[Gxqc—öZ][CQlöV🗣*mSﬂñcö,©[öYV\n",
      "+dv\n",
      "fUg1🗣ñ:vKHó‘N⅔yC:hpR‘\n",
      "8919/8919 [==============================] - 127s 14ms/step - loss: 1.7821\n"
     ]
    },
    {
     "data": {
      "text/plain": [
       "<keras.callbacks.History at 0x7fcd18050130>"
      ]
     },
     "execution_count": 105,
     "metadata": {},
     "output_type": "execute_result"
    }
   ],
   "source": [
    "# fit model\n",
    "model.fit(x, y, batch_size=20, epochs=5, callbacks=[print_callback])"
   ]
  },
  {
   "cell_type": "code",
   "execution_count": null,
   "id": "d76a4448-b78e-456d-bcec-b951e5dd33d8",
   "metadata": {},
   "outputs": [],
   "source": [
    "# run with gpu"
   ]
  }
 ],
 "metadata": {
  "kernelspec": {
   "display_name": "Python 3 (ipykernel)",
   "language": "python",
   "name": "python3"
  },
  "language_info": {
   "codemirror_mode": {
    "name": "ipython",
    "version": 3
   },
   "file_extension": ".py",
   "mimetype": "text/x-python",
   "name": "python",
   "nbconvert_exporter": "python",
   "pygments_lexer": "ipython3",
   "version": "3.8.12"
  }
 },
 "nbformat": 4,
 "nbformat_minor": 5
}
